{
  "nbformat": 4,
  "nbformat_minor": 0,
  "metadata": {
    "kernelspec": {
      "display_name": "Python 3",
      "language": "python",
      "name": "python3"
    },
    "language_info": {
      "codemirror_mode": {
        "name": "ipython",
        "version": 3
      },
      "file_extension": ".py",
      "mimetype": "text/x-python",
      "name": "python",
      "nbconvert_exporter": "python",
      "pygments_lexer": "ipython3",
      "version": "3.8.5"
    },
    "colab": {
      "name": "Data Analisis.ipynb",
      "provenance": [],
      "toc_visible": true,
      "include_colab_link": true
    }
  },
  "cells": [
    {
      "cell_type": "markdown",
      "metadata": {
        "id": "view-in-github",
        "colab_type": "text"
      },
      "source": [
        "<a href=\"https://colab.research.google.com/github/GigasTaufan/tubes-dti/blob/master/Data_Analisis.ipynb\" target=\"_parent\"><img src=\"https://colab.research.google.com/assets/colab-badge.svg\" alt=\"Open In Colab\"/></a>"
      ]
    },
    {
      "cell_type": "markdown",
      "metadata": {
        "id": "PqcorLshUCE-"
      },
      "source": [
        "# Import Library"
      ]
    },
    {
      "cell_type": "code",
      "metadata": {
        "id": "uOVS0MhpOBRb"
      },
      "source": [
        "import pandas as pd\n",
        "import numpy as np\n",
        "import seaborn as sns\n",
        "import matplotlib.pyplot as plt\n",
        "import seaborn as sns\n",
        "\n",
        "%matplotlib inline\n",
        "sns.set(style='darkgrid')"
      ],
      "execution_count": 79,
      "outputs": []
    },
    {
      "cell_type": "code",
      "metadata": {
        "id": "aeCN0SD2OBRc"
      },
      "source": [
        "df = pd.read_csv('train_u6lujuX_CVtuZ9i.csv')"
      ],
      "execution_count": 80,
      "outputs": []
    },
    {
      "cell_type": "code",
      "metadata": {
        "colab": {
          "base_uri": "https://localhost:8080/",
          "height": 0
        },
        "id": "RSzFWjZtOBRc",
        "outputId": "0ceb022d-2e2f-4a82-bf09-95b3d877fe45"
      },
      "source": [
        "df"
      ],
      "execution_count": 81,
      "outputs": [
        {
          "output_type": "execute_result",
          "data": {
            "text/html": [
              "<div>\n",
              "<style scoped>\n",
              "    .dataframe tbody tr th:only-of-type {\n",
              "        vertical-align: middle;\n",
              "    }\n",
              "\n",
              "    .dataframe tbody tr th {\n",
              "        vertical-align: top;\n",
              "    }\n",
              "\n",
              "    .dataframe thead th {\n",
              "        text-align: right;\n",
              "    }\n",
              "</style>\n",
              "<table border=\"1\" class=\"dataframe\">\n",
              "  <thead>\n",
              "    <tr style=\"text-align: right;\">\n",
              "      <th></th>\n",
              "      <th>Loan_ID</th>\n",
              "      <th>Gender</th>\n",
              "      <th>Married</th>\n",
              "      <th>Dependents</th>\n",
              "      <th>Education</th>\n",
              "      <th>Self_Employed</th>\n",
              "      <th>ApplicantIncome</th>\n",
              "      <th>CoapplicantIncome</th>\n",
              "      <th>LoanAmount</th>\n",
              "      <th>Loan_Amount_Term</th>\n",
              "      <th>Credit_History</th>\n",
              "      <th>Property_Area</th>\n",
              "      <th>Loan_Status</th>\n",
              "    </tr>\n",
              "  </thead>\n",
              "  <tbody>\n",
              "    <tr>\n",
              "      <th>0</th>\n",
              "      <td>LP001002</td>\n",
              "      <td>Male</td>\n",
              "      <td>No</td>\n",
              "      <td>0</td>\n",
              "      <td>Graduate</td>\n",
              "      <td>No</td>\n",
              "      <td>5849</td>\n",
              "      <td>0.0</td>\n",
              "      <td>NaN</td>\n",
              "      <td>360.0</td>\n",
              "      <td>1.0</td>\n",
              "      <td>Urban</td>\n",
              "      <td>Y</td>\n",
              "    </tr>\n",
              "    <tr>\n",
              "      <th>1</th>\n",
              "      <td>LP001003</td>\n",
              "      <td>Male</td>\n",
              "      <td>Yes</td>\n",
              "      <td>1</td>\n",
              "      <td>Graduate</td>\n",
              "      <td>No</td>\n",
              "      <td>4583</td>\n",
              "      <td>1508.0</td>\n",
              "      <td>128.0</td>\n",
              "      <td>360.0</td>\n",
              "      <td>1.0</td>\n",
              "      <td>Rural</td>\n",
              "      <td>N</td>\n",
              "    </tr>\n",
              "    <tr>\n",
              "      <th>2</th>\n",
              "      <td>LP001005</td>\n",
              "      <td>Male</td>\n",
              "      <td>Yes</td>\n",
              "      <td>0</td>\n",
              "      <td>Graduate</td>\n",
              "      <td>Yes</td>\n",
              "      <td>3000</td>\n",
              "      <td>0.0</td>\n",
              "      <td>66.0</td>\n",
              "      <td>360.0</td>\n",
              "      <td>1.0</td>\n",
              "      <td>Urban</td>\n",
              "      <td>Y</td>\n",
              "    </tr>\n",
              "    <tr>\n",
              "      <th>3</th>\n",
              "      <td>LP001006</td>\n",
              "      <td>Male</td>\n",
              "      <td>Yes</td>\n",
              "      <td>0</td>\n",
              "      <td>Not Graduate</td>\n",
              "      <td>No</td>\n",
              "      <td>2583</td>\n",
              "      <td>2358.0</td>\n",
              "      <td>120.0</td>\n",
              "      <td>360.0</td>\n",
              "      <td>1.0</td>\n",
              "      <td>Urban</td>\n",
              "      <td>Y</td>\n",
              "    </tr>\n",
              "    <tr>\n",
              "      <th>4</th>\n",
              "      <td>LP001008</td>\n",
              "      <td>Male</td>\n",
              "      <td>No</td>\n",
              "      <td>0</td>\n",
              "      <td>Graduate</td>\n",
              "      <td>No</td>\n",
              "      <td>6000</td>\n",
              "      <td>0.0</td>\n",
              "      <td>141.0</td>\n",
              "      <td>360.0</td>\n",
              "      <td>1.0</td>\n",
              "      <td>Urban</td>\n",
              "      <td>Y</td>\n",
              "    </tr>\n",
              "    <tr>\n",
              "      <th>...</th>\n",
              "      <td>...</td>\n",
              "      <td>...</td>\n",
              "      <td>...</td>\n",
              "      <td>...</td>\n",
              "      <td>...</td>\n",
              "      <td>...</td>\n",
              "      <td>...</td>\n",
              "      <td>...</td>\n",
              "      <td>...</td>\n",
              "      <td>...</td>\n",
              "      <td>...</td>\n",
              "      <td>...</td>\n",
              "      <td>...</td>\n",
              "    </tr>\n",
              "    <tr>\n",
              "      <th>609</th>\n",
              "      <td>LP002978</td>\n",
              "      <td>Female</td>\n",
              "      <td>No</td>\n",
              "      <td>0</td>\n",
              "      <td>Graduate</td>\n",
              "      <td>No</td>\n",
              "      <td>2900</td>\n",
              "      <td>0.0</td>\n",
              "      <td>71.0</td>\n",
              "      <td>360.0</td>\n",
              "      <td>1.0</td>\n",
              "      <td>Rural</td>\n",
              "      <td>Y</td>\n",
              "    </tr>\n",
              "    <tr>\n",
              "      <th>610</th>\n",
              "      <td>LP002979</td>\n",
              "      <td>Male</td>\n",
              "      <td>Yes</td>\n",
              "      <td>3+</td>\n",
              "      <td>Graduate</td>\n",
              "      <td>No</td>\n",
              "      <td>4106</td>\n",
              "      <td>0.0</td>\n",
              "      <td>40.0</td>\n",
              "      <td>180.0</td>\n",
              "      <td>1.0</td>\n",
              "      <td>Rural</td>\n",
              "      <td>Y</td>\n",
              "    </tr>\n",
              "    <tr>\n",
              "      <th>611</th>\n",
              "      <td>LP002983</td>\n",
              "      <td>Male</td>\n",
              "      <td>Yes</td>\n",
              "      <td>1</td>\n",
              "      <td>Graduate</td>\n",
              "      <td>No</td>\n",
              "      <td>8072</td>\n",
              "      <td>240.0</td>\n",
              "      <td>253.0</td>\n",
              "      <td>360.0</td>\n",
              "      <td>1.0</td>\n",
              "      <td>Urban</td>\n",
              "      <td>Y</td>\n",
              "    </tr>\n",
              "    <tr>\n",
              "      <th>612</th>\n",
              "      <td>LP002984</td>\n",
              "      <td>Male</td>\n",
              "      <td>Yes</td>\n",
              "      <td>2</td>\n",
              "      <td>Graduate</td>\n",
              "      <td>No</td>\n",
              "      <td>7583</td>\n",
              "      <td>0.0</td>\n",
              "      <td>187.0</td>\n",
              "      <td>360.0</td>\n",
              "      <td>1.0</td>\n",
              "      <td>Urban</td>\n",
              "      <td>Y</td>\n",
              "    </tr>\n",
              "    <tr>\n",
              "      <th>613</th>\n",
              "      <td>LP002990</td>\n",
              "      <td>Female</td>\n",
              "      <td>No</td>\n",
              "      <td>0</td>\n",
              "      <td>Graduate</td>\n",
              "      <td>Yes</td>\n",
              "      <td>4583</td>\n",
              "      <td>0.0</td>\n",
              "      <td>133.0</td>\n",
              "      <td>360.0</td>\n",
              "      <td>0.0</td>\n",
              "      <td>Semiurban</td>\n",
              "      <td>N</td>\n",
              "    </tr>\n",
              "  </tbody>\n",
              "</table>\n",
              "<p>614 rows × 13 columns</p>\n",
              "</div>"
            ],
            "text/plain": [
              "      Loan_ID  Gender Married  ... Credit_History Property_Area Loan_Status\n",
              "0    LP001002    Male      No  ...            1.0         Urban           Y\n",
              "1    LP001003    Male     Yes  ...            1.0         Rural           N\n",
              "2    LP001005    Male     Yes  ...            1.0         Urban           Y\n",
              "3    LP001006    Male     Yes  ...            1.0         Urban           Y\n",
              "4    LP001008    Male      No  ...            1.0         Urban           Y\n",
              "..        ...     ...     ...  ...            ...           ...         ...\n",
              "609  LP002978  Female      No  ...            1.0         Rural           Y\n",
              "610  LP002979    Male     Yes  ...            1.0         Rural           Y\n",
              "611  LP002983    Male     Yes  ...            1.0         Urban           Y\n",
              "612  LP002984    Male     Yes  ...            1.0         Urban           Y\n",
              "613  LP002990  Female      No  ...            0.0     Semiurban           N\n",
              "\n",
              "[614 rows x 13 columns]"
            ]
          },
          "metadata": {
            "tags": []
          },
          "execution_count": 81
        }
      ]
    },
    {
      "cell_type": "markdown",
      "metadata": {
        "id": "WgraW0hhQ7fV"
      },
      "source": [
        "# Oversampling"
      ]
    },
    {
      "cell_type": "code",
      "metadata": {
        "id": "wISUSaxXOBRo"
      },
      "source": [
        "count_class_Y, count_class_N = df.Loan_Status.value_counts()"
      ],
      "execution_count": 144,
      "outputs": []
    },
    {
      "cell_type": "code",
      "metadata": {
        "colab": {
          "base_uri": "https://localhost:8080/"
        },
        "id": "GpbvTrwQOBRn",
        "outputId": "70588106-a8d0-4072-8212-586a803ee4c3"
      },
      "source": [
        "df['Loan_Status'].value_counts()"
      ],
      "execution_count": 145,
      "outputs": [
        {
          "output_type": "execute_result",
          "data": {
            "text/plain": [
              "Y    422\n",
              "N    192\n",
              "Name: Loan_Status, dtype: int64"
            ]
          },
          "metadata": {
            "tags": []
          },
          "execution_count": 145
        }
      ]
    },
    {
      "cell_type": "code",
      "metadata": {
        "colab": {
          "base_uri": "https://localhost:8080/"
        },
        "id": "tj51-oevOBRp",
        "outputId": "fc234b69-e5c0-415b-827b-89e4edc2df8a"
      },
      "source": [
        "count_class_Y"
      ],
      "execution_count": 146,
      "outputs": [
        {
          "output_type": "execute_result",
          "data": {
            "text/plain": [
              "422"
            ]
          },
          "metadata": {
            "tags": []
          },
          "execution_count": 146
        }
      ]
    },
    {
      "cell_type": "code",
      "metadata": {
        "colab": {
          "base_uri": "https://localhost:8080/"
        },
        "id": "9BqiFdkDOBRp",
        "outputId": "4320e10d-2872-4d29-ccbc-c902c73b2ca5"
      },
      "source": [
        "count_class_N"
      ],
      "execution_count": 147,
      "outputs": [
        {
          "output_type": "execute_result",
          "data": {
            "text/plain": [
              "192"
            ]
          },
          "metadata": {
            "tags": []
          },
          "execution_count": 147
        }
      ]
    },
    {
      "cell_type": "code",
      "metadata": {
        "id": "-9HfkN4HOBRq"
      },
      "source": [
        "data_class_Y = df[df['Loan_Status'] == 'Y']\n",
        "data_class_N = df[df['Loan_Status'] == 'N']"
      ],
      "execution_count": 148,
      "outputs": []
    },
    {
      "cell_type": "code",
      "metadata": {
        "colab": {
          "base_uri": "https://localhost:8080/",
          "height": 0
        },
        "id": "rjaKVRtVOBRq",
        "outputId": "934bcd80-513e-4868-b86e-93dce55b29b0"
      },
      "source": [
        "data_class_Y"
      ],
      "execution_count": 149,
      "outputs": [
        {
          "output_type": "execute_result",
          "data": {
            "text/html": [
              "<div>\n",
              "<style scoped>\n",
              "    .dataframe tbody tr th:only-of-type {\n",
              "        vertical-align: middle;\n",
              "    }\n",
              "\n",
              "    .dataframe tbody tr th {\n",
              "        vertical-align: top;\n",
              "    }\n",
              "\n",
              "    .dataframe thead th {\n",
              "        text-align: right;\n",
              "    }\n",
              "</style>\n",
              "<table border=\"1\" class=\"dataframe\">\n",
              "  <thead>\n",
              "    <tr style=\"text-align: right;\">\n",
              "      <th></th>\n",
              "      <th>Loan_ID</th>\n",
              "      <th>Gender</th>\n",
              "      <th>Married</th>\n",
              "      <th>Dependents</th>\n",
              "      <th>Education</th>\n",
              "      <th>Self_Employed</th>\n",
              "      <th>ApplicantIncome</th>\n",
              "      <th>CoapplicantIncome</th>\n",
              "      <th>LoanAmount</th>\n",
              "      <th>Loan_Amount_Term</th>\n",
              "      <th>Credit_History</th>\n",
              "      <th>Property_Area</th>\n",
              "      <th>Loan_Status</th>\n",
              "    </tr>\n",
              "  </thead>\n",
              "  <tbody>\n",
              "    <tr>\n",
              "      <th>0</th>\n",
              "      <td>LP001002</td>\n",
              "      <td>Male</td>\n",
              "      <td>No</td>\n",
              "      <td>0</td>\n",
              "      <td>Graduate</td>\n",
              "      <td>No</td>\n",
              "      <td>5849</td>\n",
              "      <td>0.0</td>\n",
              "      <td>NaN</td>\n",
              "      <td>360.0</td>\n",
              "      <td>1.0</td>\n",
              "      <td>Urban</td>\n",
              "      <td>Y</td>\n",
              "    </tr>\n",
              "    <tr>\n",
              "      <th>2</th>\n",
              "      <td>LP001005</td>\n",
              "      <td>Male</td>\n",
              "      <td>Yes</td>\n",
              "      <td>0</td>\n",
              "      <td>Graduate</td>\n",
              "      <td>Yes</td>\n",
              "      <td>3000</td>\n",
              "      <td>0.0</td>\n",
              "      <td>66.0</td>\n",
              "      <td>360.0</td>\n",
              "      <td>1.0</td>\n",
              "      <td>Urban</td>\n",
              "      <td>Y</td>\n",
              "    </tr>\n",
              "    <tr>\n",
              "      <th>3</th>\n",
              "      <td>LP001006</td>\n",
              "      <td>Male</td>\n",
              "      <td>Yes</td>\n",
              "      <td>0</td>\n",
              "      <td>Not Graduate</td>\n",
              "      <td>No</td>\n",
              "      <td>2583</td>\n",
              "      <td>2358.0</td>\n",
              "      <td>120.0</td>\n",
              "      <td>360.0</td>\n",
              "      <td>1.0</td>\n",
              "      <td>Urban</td>\n",
              "      <td>Y</td>\n",
              "    </tr>\n",
              "    <tr>\n",
              "      <th>4</th>\n",
              "      <td>LP001008</td>\n",
              "      <td>Male</td>\n",
              "      <td>No</td>\n",
              "      <td>0</td>\n",
              "      <td>Graduate</td>\n",
              "      <td>No</td>\n",
              "      <td>6000</td>\n",
              "      <td>0.0</td>\n",
              "      <td>141.0</td>\n",
              "      <td>360.0</td>\n",
              "      <td>1.0</td>\n",
              "      <td>Urban</td>\n",
              "      <td>Y</td>\n",
              "    </tr>\n",
              "    <tr>\n",
              "      <th>5</th>\n",
              "      <td>LP001011</td>\n",
              "      <td>Male</td>\n",
              "      <td>Yes</td>\n",
              "      <td>2</td>\n",
              "      <td>Graduate</td>\n",
              "      <td>Yes</td>\n",
              "      <td>5417</td>\n",
              "      <td>4196.0</td>\n",
              "      <td>267.0</td>\n",
              "      <td>360.0</td>\n",
              "      <td>1.0</td>\n",
              "      <td>Urban</td>\n",
              "      <td>Y</td>\n",
              "    </tr>\n",
              "    <tr>\n",
              "      <th>...</th>\n",
              "      <td>...</td>\n",
              "      <td>...</td>\n",
              "      <td>...</td>\n",
              "      <td>...</td>\n",
              "      <td>...</td>\n",
              "      <td>...</td>\n",
              "      <td>...</td>\n",
              "      <td>...</td>\n",
              "      <td>...</td>\n",
              "      <td>...</td>\n",
              "      <td>...</td>\n",
              "      <td>...</td>\n",
              "      <td>...</td>\n",
              "    </tr>\n",
              "    <tr>\n",
              "      <th>608</th>\n",
              "      <td>LP002974</td>\n",
              "      <td>Male</td>\n",
              "      <td>Yes</td>\n",
              "      <td>0</td>\n",
              "      <td>Graduate</td>\n",
              "      <td>No</td>\n",
              "      <td>3232</td>\n",
              "      <td>1950.0</td>\n",
              "      <td>108.0</td>\n",
              "      <td>360.0</td>\n",
              "      <td>1.0</td>\n",
              "      <td>Rural</td>\n",
              "      <td>Y</td>\n",
              "    </tr>\n",
              "    <tr>\n",
              "      <th>609</th>\n",
              "      <td>LP002978</td>\n",
              "      <td>Female</td>\n",
              "      <td>No</td>\n",
              "      <td>0</td>\n",
              "      <td>Graduate</td>\n",
              "      <td>No</td>\n",
              "      <td>2900</td>\n",
              "      <td>0.0</td>\n",
              "      <td>71.0</td>\n",
              "      <td>360.0</td>\n",
              "      <td>1.0</td>\n",
              "      <td>Rural</td>\n",
              "      <td>Y</td>\n",
              "    </tr>\n",
              "    <tr>\n",
              "      <th>610</th>\n",
              "      <td>LP002979</td>\n",
              "      <td>Male</td>\n",
              "      <td>Yes</td>\n",
              "      <td>3+</td>\n",
              "      <td>Graduate</td>\n",
              "      <td>No</td>\n",
              "      <td>4106</td>\n",
              "      <td>0.0</td>\n",
              "      <td>40.0</td>\n",
              "      <td>180.0</td>\n",
              "      <td>1.0</td>\n",
              "      <td>Rural</td>\n",
              "      <td>Y</td>\n",
              "    </tr>\n",
              "    <tr>\n",
              "      <th>611</th>\n",
              "      <td>LP002983</td>\n",
              "      <td>Male</td>\n",
              "      <td>Yes</td>\n",
              "      <td>1</td>\n",
              "      <td>Graduate</td>\n",
              "      <td>No</td>\n",
              "      <td>8072</td>\n",
              "      <td>240.0</td>\n",
              "      <td>253.0</td>\n",
              "      <td>360.0</td>\n",
              "      <td>1.0</td>\n",
              "      <td>Urban</td>\n",
              "      <td>Y</td>\n",
              "    </tr>\n",
              "    <tr>\n",
              "      <th>612</th>\n",
              "      <td>LP002984</td>\n",
              "      <td>Male</td>\n",
              "      <td>Yes</td>\n",
              "      <td>2</td>\n",
              "      <td>Graduate</td>\n",
              "      <td>No</td>\n",
              "      <td>7583</td>\n",
              "      <td>0.0</td>\n",
              "      <td>187.0</td>\n",
              "      <td>360.0</td>\n",
              "      <td>1.0</td>\n",
              "      <td>Urban</td>\n",
              "      <td>Y</td>\n",
              "    </tr>\n",
              "  </tbody>\n",
              "</table>\n",
              "<p>422 rows × 13 columns</p>\n",
              "</div>"
            ],
            "text/plain": [
              "      Loan_ID  Gender Married  ... Credit_History Property_Area Loan_Status\n",
              "0    LP001002    Male      No  ...            1.0         Urban           Y\n",
              "2    LP001005    Male     Yes  ...            1.0         Urban           Y\n",
              "3    LP001006    Male     Yes  ...            1.0         Urban           Y\n",
              "4    LP001008    Male      No  ...            1.0         Urban           Y\n",
              "5    LP001011    Male     Yes  ...            1.0         Urban           Y\n",
              "..        ...     ...     ...  ...            ...           ...         ...\n",
              "608  LP002974    Male     Yes  ...            1.0         Rural           Y\n",
              "609  LP002978  Female      No  ...            1.0         Rural           Y\n",
              "610  LP002979    Male     Yes  ...            1.0         Rural           Y\n",
              "611  LP002983    Male     Yes  ...            1.0         Urban           Y\n",
              "612  LP002984    Male     Yes  ...            1.0         Urban           Y\n",
              "\n",
              "[422 rows x 13 columns]"
            ]
          },
          "metadata": {
            "tags": []
          },
          "execution_count": 149
        }
      ]
    },
    {
      "cell_type": "code",
      "metadata": {
        "colab": {
          "base_uri": "https://localhost:8080/",
          "height": 0
        },
        "id": "R2VdlNJrOBRv",
        "outputId": "07c42727-c2d8-4956-addf-4b8afd9599ef"
      },
      "source": [
        "data_class_N"
      ],
      "execution_count": 150,
      "outputs": [
        {
          "output_type": "execute_result",
          "data": {
            "text/html": [
              "<div>\n",
              "<style scoped>\n",
              "    .dataframe tbody tr th:only-of-type {\n",
              "        vertical-align: middle;\n",
              "    }\n",
              "\n",
              "    .dataframe tbody tr th {\n",
              "        vertical-align: top;\n",
              "    }\n",
              "\n",
              "    .dataframe thead th {\n",
              "        text-align: right;\n",
              "    }\n",
              "</style>\n",
              "<table border=\"1\" class=\"dataframe\">\n",
              "  <thead>\n",
              "    <tr style=\"text-align: right;\">\n",
              "      <th></th>\n",
              "      <th>Loan_ID</th>\n",
              "      <th>Gender</th>\n",
              "      <th>Married</th>\n",
              "      <th>Dependents</th>\n",
              "      <th>Education</th>\n",
              "      <th>Self_Employed</th>\n",
              "      <th>ApplicantIncome</th>\n",
              "      <th>CoapplicantIncome</th>\n",
              "      <th>LoanAmount</th>\n",
              "      <th>Loan_Amount_Term</th>\n",
              "      <th>Credit_History</th>\n",
              "      <th>Property_Area</th>\n",
              "      <th>Loan_Status</th>\n",
              "    </tr>\n",
              "  </thead>\n",
              "  <tbody>\n",
              "    <tr>\n",
              "      <th>1</th>\n",
              "      <td>LP001003</td>\n",
              "      <td>Male</td>\n",
              "      <td>Yes</td>\n",
              "      <td>1</td>\n",
              "      <td>Graduate</td>\n",
              "      <td>No</td>\n",
              "      <td>4583</td>\n",
              "      <td>1508.0</td>\n",
              "      <td>128.0</td>\n",
              "      <td>360.0</td>\n",
              "      <td>1.0</td>\n",
              "      <td>Rural</td>\n",
              "      <td>N</td>\n",
              "    </tr>\n",
              "    <tr>\n",
              "      <th>7</th>\n",
              "      <td>LP001014</td>\n",
              "      <td>Male</td>\n",
              "      <td>Yes</td>\n",
              "      <td>3+</td>\n",
              "      <td>Graduate</td>\n",
              "      <td>No</td>\n",
              "      <td>3036</td>\n",
              "      <td>2504.0</td>\n",
              "      <td>158.0</td>\n",
              "      <td>360.0</td>\n",
              "      <td>0.0</td>\n",
              "      <td>Semiurban</td>\n",
              "      <td>N</td>\n",
              "    </tr>\n",
              "    <tr>\n",
              "      <th>9</th>\n",
              "      <td>LP001020</td>\n",
              "      <td>Male</td>\n",
              "      <td>Yes</td>\n",
              "      <td>1</td>\n",
              "      <td>Graduate</td>\n",
              "      <td>No</td>\n",
              "      <td>12841</td>\n",
              "      <td>10968.0</td>\n",
              "      <td>349.0</td>\n",
              "      <td>360.0</td>\n",
              "      <td>1.0</td>\n",
              "      <td>Semiurban</td>\n",
              "      <td>N</td>\n",
              "    </tr>\n",
              "    <tr>\n",
              "      <th>13</th>\n",
              "      <td>LP001029</td>\n",
              "      <td>Male</td>\n",
              "      <td>No</td>\n",
              "      <td>0</td>\n",
              "      <td>Graduate</td>\n",
              "      <td>No</td>\n",
              "      <td>1853</td>\n",
              "      <td>2840.0</td>\n",
              "      <td>114.0</td>\n",
              "      <td>360.0</td>\n",
              "      <td>1.0</td>\n",
              "      <td>Rural</td>\n",
              "      <td>N</td>\n",
              "    </tr>\n",
              "    <tr>\n",
              "      <th>17</th>\n",
              "      <td>LP001036</td>\n",
              "      <td>Female</td>\n",
              "      <td>No</td>\n",
              "      <td>0</td>\n",
              "      <td>Graduate</td>\n",
              "      <td>No</td>\n",
              "      <td>3510</td>\n",
              "      <td>0.0</td>\n",
              "      <td>76.0</td>\n",
              "      <td>360.0</td>\n",
              "      <td>0.0</td>\n",
              "      <td>Urban</td>\n",
              "      <td>N</td>\n",
              "    </tr>\n",
              "    <tr>\n",
              "      <th>...</th>\n",
              "      <td>...</td>\n",
              "      <td>...</td>\n",
              "      <td>...</td>\n",
              "      <td>...</td>\n",
              "      <td>...</td>\n",
              "      <td>...</td>\n",
              "      <td>...</td>\n",
              "      <td>...</td>\n",
              "      <td>...</td>\n",
              "      <td>...</td>\n",
              "      <td>...</td>\n",
              "      <td>...</td>\n",
              "      <td>...</td>\n",
              "    </tr>\n",
              "    <tr>\n",
              "      <th>596</th>\n",
              "      <td>LP002941</td>\n",
              "      <td>Male</td>\n",
              "      <td>Yes</td>\n",
              "      <td>2</td>\n",
              "      <td>Not Graduate</td>\n",
              "      <td>Yes</td>\n",
              "      <td>6383</td>\n",
              "      <td>1000.0</td>\n",
              "      <td>187.0</td>\n",
              "      <td>360.0</td>\n",
              "      <td>1.0</td>\n",
              "      <td>Rural</td>\n",
              "      <td>N</td>\n",
              "    </tr>\n",
              "    <tr>\n",
              "      <th>597</th>\n",
              "      <td>LP002943</td>\n",
              "      <td>Male</td>\n",
              "      <td>No</td>\n",
              "      <td>NaN</td>\n",
              "      <td>Graduate</td>\n",
              "      <td>No</td>\n",
              "      <td>2987</td>\n",
              "      <td>0.0</td>\n",
              "      <td>88.0</td>\n",
              "      <td>360.0</td>\n",
              "      <td>0.0</td>\n",
              "      <td>Semiurban</td>\n",
              "      <td>N</td>\n",
              "    </tr>\n",
              "    <tr>\n",
              "      <th>600</th>\n",
              "      <td>LP002949</td>\n",
              "      <td>Female</td>\n",
              "      <td>No</td>\n",
              "      <td>3+</td>\n",
              "      <td>Graduate</td>\n",
              "      <td>NaN</td>\n",
              "      <td>416</td>\n",
              "      <td>41667.0</td>\n",
              "      <td>350.0</td>\n",
              "      <td>180.0</td>\n",
              "      <td>NaN</td>\n",
              "      <td>Urban</td>\n",
              "      <td>N</td>\n",
              "    </tr>\n",
              "    <tr>\n",
              "      <th>605</th>\n",
              "      <td>LP002960</td>\n",
              "      <td>Male</td>\n",
              "      <td>Yes</td>\n",
              "      <td>0</td>\n",
              "      <td>Not Graduate</td>\n",
              "      <td>No</td>\n",
              "      <td>2400</td>\n",
              "      <td>3800.0</td>\n",
              "      <td>NaN</td>\n",
              "      <td>180.0</td>\n",
              "      <td>1.0</td>\n",
              "      <td>Urban</td>\n",
              "      <td>N</td>\n",
              "    </tr>\n",
              "    <tr>\n",
              "      <th>613</th>\n",
              "      <td>LP002990</td>\n",
              "      <td>Female</td>\n",
              "      <td>No</td>\n",
              "      <td>0</td>\n",
              "      <td>Graduate</td>\n",
              "      <td>Yes</td>\n",
              "      <td>4583</td>\n",
              "      <td>0.0</td>\n",
              "      <td>133.0</td>\n",
              "      <td>360.0</td>\n",
              "      <td>0.0</td>\n",
              "      <td>Semiurban</td>\n",
              "      <td>N</td>\n",
              "    </tr>\n",
              "  </tbody>\n",
              "</table>\n",
              "<p>192 rows × 13 columns</p>\n",
              "</div>"
            ],
            "text/plain": [
              "      Loan_ID  Gender Married  ... Credit_History Property_Area Loan_Status\n",
              "1    LP001003    Male     Yes  ...            1.0         Rural           N\n",
              "7    LP001014    Male     Yes  ...            0.0     Semiurban           N\n",
              "9    LP001020    Male     Yes  ...            1.0     Semiurban           N\n",
              "13   LP001029    Male      No  ...            1.0         Rural           N\n",
              "17   LP001036  Female      No  ...            0.0         Urban           N\n",
              "..        ...     ...     ...  ...            ...           ...         ...\n",
              "596  LP002941    Male     Yes  ...            1.0         Rural           N\n",
              "597  LP002943    Male      No  ...            0.0     Semiurban           N\n",
              "600  LP002949  Female      No  ...            NaN         Urban           N\n",
              "605  LP002960    Male     Yes  ...            1.0         Urban           N\n",
              "613  LP002990  Female      No  ...            0.0     Semiurban           N\n",
              "\n",
              "[192 rows x 13 columns]"
            ]
          },
          "metadata": {
            "tags": []
          },
          "execution_count": 150
        }
      ]
    },
    {
      "cell_type": "code",
      "metadata": {
        "colab": {
          "base_uri": "https://localhost:8080/"
        },
        "id": "sCji0pQiOBR7",
        "outputId": "3d6c0cb9-ec75-414a-da35-8788aaaf4257"
      },
      "source": [
        "data_class_N_over = data_class_N.sample(count_class_Y, replace=True)\n",
        "data_test_over = pd.concat([data_class_Y, data_class_N_over], axis=0)\n",
        "\n",
        "print('Random over-sampling:')\n",
        "print(data_test_over.Loan_Status.value_counts())"
      ],
      "execution_count": 151,
      "outputs": [
        {
          "output_type": "stream",
          "text": [
            "Random over-sampling:\n",
            "Y    422\n",
            "N    422\n",
            "Name: Loan_Status, dtype: int64\n"
          ],
          "name": "stdout"
        }
      ]
    },
    {
      "cell_type": "code",
      "metadata": {
        "colab": {
          "base_uri": "https://localhost:8080/",
          "height": 0
        },
        "id": "5xIUCF6UOBSS",
        "outputId": "78a40d46-066a-463d-d0d4-92825404b8c7"
      },
      "source": [
        "fig3 = sns.countplot(x= 'Loan_Status',data = data_test_over)\n",
        "plt.title('Label Counts')\n",
        "plot = fig3.get_figure()"
      ],
      "execution_count": 152,
      "outputs": [
        {
          "output_type": "display_data",
          "data": {
            "image/png": "[encoded data removed]",
            "text/plain": [
              "<Figure size 432x288 with 1 Axes>"
            ]
          },
          "metadata": {
            "tags": []
          }
        }
      ]
    },
    {
      "cell_type": "markdown",
      "metadata": {
        "id": "1wW8GMeHS0px"
      },
      "source": [
        "# Cleansing"
      ]
    },
    {
      "cell_type": "code",
      "metadata": {
        "colab": {
          "base_uri": "https://localhost:8080/"
        },
        "id": "jI5jgu3sOBRd",
        "outputId": "7c603115-4b69-48ce-ae41-5b87fb732c6b"
      },
      "source": [
        "data_test_over.isnull().sum()"
      ],
      "execution_count": 153,
      "outputs": [
        {
          "output_type": "execute_result",
          "data": {
            "text/plain": [
              "Loan_ID               0\n",
              "Gender               14\n",
              "Married               3\n",
              "Dependents           30\n",
              "Education             0\n",
              "Self_Employed        40\n",
              "ApplicantIncome       0\n",
              "CoapplicantIncome     0\n",
              "LoanAmount           36\n",
              "Loan_Amount_Term     24\n",
              "Credit_History       73\n",
              "Property_Area         0\n",
              "Loan_Status           0\n",
              "dtype: int64"
            ]
          },
          "metadata": {
            "tags": []
          },
          "execution_count": 153
        }
      ]
    },
    {
      "cell_type": "code",
      "metadata": {
        "colab": {
          "base_uri": "https://localhost:8080/",
          "height": 0
        },
        "id": "sUWROVyzVHgf",
        "outputId": "01c8f1f3-1204-4054-ec1a-ea40a9f686a1"
      },
      "source": [
        "data_test_over"
      ],
      "execution_count": 154,
      "outputs": [
        {
          "output_type": "execute_result",
          "data": {
            "text/html": [
              "<div>\n",
              "<style scoped>\n",
              "    .dataframe tbody tr th:only-of-type {\n",
              "        vertical-align: middle;\n",
              "    }\n",
              "\n",
              "    .dataframe tbody tr th {\n",
              "        vertical-align: top;\n",
              "    }\n",
              "\n",
              "    .dataframe thead th {\n",
              "        text-align: right;\n",
              "    }\n",
              "</style>\n",
              "<table border=\"1\" class=\"dataframe\">\n",
              "  <thead>\n",
              "    <tr style=\"text-align: right;\">\n",
              "      <th></th>\n",
              "      <th>Loan_ID</th>\n",
              "      <th>Gender</th>\n",
              "      <th>Married</th>\n",
              "      <th>Dependents</th>\n",
              "      <th>Education</th>\n",
              "      <th>Self_Employed</th>\n",
              "      <th>ApplicantIncome</th>\n",
              "      <th>CoapplicantIncome</th>\n",
              "      <th>LoanAmount</th>\n",
              "      <th>Loan_Amount_Term</th>\n",
              "      <th>Credit_History</th>\n",
              "      <th>Property_Area</th>\n",
              "      <th>Loan_Status</th>\n",
              "    </tr>\n",
              "  </thead>\n",
              "  <tbody>\n",
              "    <tr>\n",
              "      <th>0</th>\n",
              "      <td>LP001002</td>\n",
              "      <td>Male</td>\n",
              "      <td>No</td>\n",
              "      <td>0</td>\n",
              "      <td>Graduate</td>\n",
              "      <td>No</td>\n",
              "      <td>5849</td>\n",
              "      <td>0.0</td>\n",
              "      <td>NaN</td>\n",
              "      <td>360.0</td>\n",
              "      <td>1.0</td>\n",
              "      <td>Urban</td>\n",
              "      <td>Y</td>\n",
              "    </tr>\n",
              "    <tr>\n",
              "      <th>2</th>\n",
              "      <td>LP001005</td>\n",
              "      <td>Male</td>\n",
              "      <td>Yes</td>\n",
              "      <td>0</td>\n",
              "      <td>Graduate</td>\n",
              "      <td>Yes</td>\n",
              "      <td>3000</td>\n",
              "      <td>0.0</td>\n",
              "      <td>66.0</td>\n",
              "      <td>360.0</td>\n",
              "      <td>1.0</td>\n",
              "      <td>Urban</td>\n",
              "      <td>Y</td>\n",
              "    </tr>\n",
              "    <tr>\n",
              "      <th>3</th>\n",
              "      <td>LP001006</td>\n",
              "      <td>Male</td>\n",
              "      <td>Yes</td>\n",
              "      <td>0</td>\n",
              "      <td>Not Graduate</td>\n",
              "      <td>No</td>\n",
              "      <td>2583</td>\n",
              "      <td>2358.0</td>\n",
              "      <td>120.0</td>\n",
              "      <td>360.0</td>\n",
              "      <td>1.0</td>\n",
              "      <td>Urban</td>\n",
              "      <td>Y</td>\n",
              "    </tr>\n",
              "    <tr>\n",
              "      <th>4</th>\n",
              "      <td>LP001008</td>\n",
              "      <td>Male</td>\n",
              "      <td>No</td>\n",
              "      <td>0</td>\n",
              "      <td>Graduate</td>\n",
              "      <td>No</td>\n",
              "      <td>6000</td>\n",
              "      <td>0.0</td>\n",
              "      <td>141.0</td>\n",
              "      <td>360.0</td>\n",
              "      <td>1.0</td>\n",
              "      <td>Urban</td>\n",
              "      <td>Y</td>\n",
              "    </tr>\n",
              "    <tr>\n",
              "      <th>5</th>\n",
              "      <td>LP001011</td>\n",
              "      <td>Male</td>\n",
              "      <td>Yes</td>\n",
              "      <td>2</td>\n",
              "      <td>Graduate</td>\n",
              "      <td>Yes</td>\n",
              "      <td>5417</td>\n",
              "      <td>4196.0</td>\n",
              "      <td>267.0</td>\n",
              "      <td>360.0</td>\n",
              "      <td>1.0</td>\n",
              "      <td>Urban</td>\n",
              "      <td>Y</td>\n",
              "    </tr>\n",
              "    <tr>\n",
              "      <th>...</th>\n",
              "      <td>...</td>\n",
              "      <td>...</td>\n",
              "      <td>...</td>\n",
              "      <td>...</td>\n",
              "      <td>...</td>\n",
              "      <td>...</td>\n",
              "      <td>...</td>\n",
              "      <td>...</td>\n",
              "      <td>...</td>\n",
              "      <td>...</td>\n",
              "      <td>...</td>\n",
              "      <td>...</td>\n",
              "      <td>...</td>\n",
              "    </tr>\n",
              "    <tr>\n",
              "      <th>172</th>\n",
              "      <td>LP001586</td>\n",
              "      <td>Male</td>\n",
              "      <td>Yes</td>\n",
              "      <td>3+</td>\n",
              "      <td>Not Graduate</td>\n",
              "      <td>No</td>\n",
              "      <td>3522</td>\n",
              "      <td>0.0</td>\n",
              "      <td>81.0</td>\n",
              "      <td>180.0</td>\n",
              "      <td>1.0</td>\n",
              "      <td>Rural</td>\n",
              "      <td>N</td>\n",
              "    </tr>\n",
              "    <tr>\n",
              "      <th>148</th>\n",
              "      <td>LP001519</td>\n",
              "      <td>Female</td>\n",
              "      <td>No</td>\n",
              "      <td>0</td>\n",
              "      <td>Graduate</td>\n",
              "      <td>No</td>\n",
              "      <td>10000</td>\n",
              "      <td>1666.0</td>\n",
              "      <td>225.0</td>\n",
              "      <td>360.0</td>\n",
              "      <td>1.0</td>\n",
              "      <td>Rural</td>\n",
              "      <td>N</td>\n",
              "    </tr>\n",
              "    <tr>\n",
              "      <th>140</th>\n",
              "      <td>LP001497</td>\n",
              "      <td>Male</td>\n",
              "      <td>Yes</td>\n",
              "      <td>2</td>\n",
              "      <td>Graduate</td>\n",
              "      <td>No</td>\n",
              "      <td>5042</td>\n",
              "      <td>2083.0</td>\n",
              "      <td>185.0</td>\n",
              "      <td>360.0</td>\n",
              "      <td>1.0</td>\n",
              "      <td>Rural</td>\n",
              "      <td>N</td>\n",
              "    </tr>\n",
              "    <tr>\n",
              "      <th>410</th>\n",
              "      <td>LP002318</td>\n",
              "      <td>Female</td>\n",
              "      <td>No</td>\n",
              "      <td>1</td>\n",
              "      <td>Not Graduate</td>\n",
              "      <td>Yes</td>\n",
              "      <td>3867</td>\n",
              "      <td>0.0</td>\n",
              "      <td>62.0</td>\n",
              "      <td>360.0</td>\n",
              "      <td>1.0</td>\n",
              "      <td>Semiurban</td>\n",
              "      <td>N</td>\n",
              "    </tr>\n",
              "    <tr>\n",
              "      <th>404</th>\n",
              "      <td>LP002301</td>\n",
              "      <td>Female</td>\n",
              "      <td>No</td>\n",
              "      <td>0</td>\n",
              "      <td>Graduate</td>\n",
              "      <td>Yes</td>\n",
              "      <td>7441</td>\n",
              "      <td>0.0</td>\n",
              "      <td>194.0</td>\n",
              "      <td>360.0</td>\n",
              "      <td>1.0</td>\n",
              "      <td>Rural</td>\n",
              "      <td>N</td>\n",
              "    </tr>\n",
              "  </tbody>\n",
              "</table>\n",
              "<p>844 rows × 13 columns</p>\n",
              "</div>"
            ],
            "text/plain": [
              "      Loan_ID  Gender Married  ... Credit_History Property_Area Loan_Status\n",
              "0    LP001002    Male      No  ...            1.0         Urban           Y\n",
              "2    LP001005    Male     Yes  ...            1.0         Urban           Y\n",
              "3    LP001006    Male     Yes  ...            1.0         Urban           Y\n",
              "4    LP001008    Male      No  ...            1.0         Urban           Y\n",
              "5    LP001011    Male     Yes  ...            1.0         Urban           Y\n",
              "..        ...     ...     ...  ...            ...           ...         ...\n",
              "172  LP001586    Male     Yes  ...            1.0         Rural           N\n",
              "148  LP001519  Female      No  ...            1.0         Rural           N\n",
              "140  LP001497    Male     Yes  ...            1.0         Rural           N\n",
              "410  LP002318  Female      No  ...            1.0     Semiurban           N\n",
              "404  LP002301  Female      No  ...            1.0         Rural           N\n",
              "\n",
              "[844 rows x 13 columns]"
            ]
          },
          "metadata": {
            "tags": []
          },
          "execution_count": 154
        }
      ]
    },
    {
      "cell_type": "code",
      "metadata": {
        "id": "tqXdzGUPUgKI"
      },
      "source": [
        "data_test_over['Dependents'] = data_test_over['Dependents'].fillna(data_test_over['Dependents'].mode()[0])\n",
        "data_test_over['Married'] = data_test_over['Married'].fillna(data_test_over['Married'].mode()[0])\n",
        "data_test_over['Self_Employed'] = data_test_over['Self_Employed'].fillna(data_test_over['Self_Employed'].mode()[0])\n",
        "data_test_over['Gender'] = data_test_over['Gender'].fillna(data_test_over['Gender'].mode()[0])\n",
        "data_test_over['Credit_History'] = data_test_over['Credit_History'].fillna(data_test_over['Credit_History'].mode()[0])"
      ],
      "execution_count": 155,
      "outputs": []
    },
    {
      "cell_type": "code",
      "metadata": {
        "id": "B2VCoAF4UkAL"
      },
      "source": [
        "data_test_over ['LoanAmount'] = data_test_over['LoanAmount'].replace(np.NaN , data_test_over['LoanAmount'].mean())\n",
        "data_test_over ['Loan_Amount_Term'] = data_test_over['Loan_Amount_Term'].replace(np.NaN , data_test_over['Loan_Amount_Term'].mean())"
      ],
      "execution_count": 156,
      "outputs": []
    },
    {
      "cell_type": "code",
      "metadata": {
        "colab": {
          "base_uri": "https://localhost:8080/"
        },
        "id": "xB7fEkACOBSZ",
        "outputId": "55bd0558-261b-4bab-e7c3-78b35cba4556"
      },
      "source": [
        "g=data_test_over.groupby('Property_Area')['Property_Area']\n",
        "\n",
        "g.count()"
      ],
      "execution_count": 157,
      "outputs": [
        {
          "output_type": "execute_result",
          "data": {
            "text/plain": [
              "Property_Area\n",
              "Rural        259\n",
              "Semiurban    295\n",
              "Urban        290\n",
              "Name: Property_Area, dtype: int64"
            ]
          },
          "metadata": {
            "tags": []
          },
          "execution_count": 157
        }
      ]
    },
    {
      "cell_type": "code",
      "metadata": {
        "colab": {
          "base_uri": "https://localhost:8080/"
        },
        "id": "o1Ov2ZpnOBSf",
        "outputId": "5a8d613a-8469-4505-b7c3-26c1d09b7254"
      },
      "source": [
        "f=data_test_over.groupby('Dependents')['Dependents']\n",
        "\n",
        "f.count()"
      ],
      "execution_count": 158,
      "outputs": [
        {
          "output_type": "execute_result",
          "data": {
            "text/plain": [
              "Dependents\n",
              "0     486\n",
              "1     150\n",
              "2     128\n",
              "3+     80\n",
              "Name: Dependents, dtype: int64"
            ]
          },
          "metadata": {
            "tags": []
          },
          "execution_count": 158
        }
      ]
    },
    {
      "cell_type": "code",
      "metadata": {
        "id": "DxsUuMQzOBSg"
      },
      "source": [
        "data_test_over['Gender'] = data_test_over['Gender'].map({'Male':1, 'Female':0})\n",
        "data_test_over['Self_Employed'] = data_test_over['Self_Employed'].map({'Yes':1, 'No':0})\n",
        "data_test_over['Education'] = data_test_over['Education'].map({'Graduate':1, 'Not Graduate':0})\n",
        "data_test_over['Loan_Status'] = data_test_over['Loan_Status'].map({'Y':1, 'N':0})\n",
        "data_test_over['Married'] = data_test_over['Married'].map({'No':1, 'Yes':0})\n",
        "data_test_over['Property_Area'] = data_test_over['Property_Area'].map({'Rural':1, 'Semiurban':0,'Urban':2})\n",
        "data_test_over['Dependents'] = data_test_over['Dependents'].map({'1':1, '0':0,'2':2,'3+':3})\n",
        "# data_test_over['Loan_Amount_Term'] = data_test_over['Loan_Amount_Term'].map({'1':1, '0':0,'2':2,'3+':3})"
      ],
      "execution_count": 159,
      "outputs": []
    },
    {
      "cell_type": "code",
      "metadata": {
        "colab": {
          "base_uri": "https://localhost:8080/"
        },
        "id": "pOjICDg_URTG",
        "outputId": "7262d179-f5f4-4270-f71c-f7cea73a1d28"
      },
      "source": [
        "data_test_over.isnull().sum()"
      ],
      "execution_count": 160,
      "outputs": [
        {
          "output_type": "execute_result",
          "data": {
            "text/plain": [
              "Loan_ID              0\n",
              "Gender               0\n",
              "Married              0\n",
              "Dependents           0\n",
              "Education            0\n",
              "Self_Employed        0\n",
              "ApplicantIncome      0\n",
              "CoapplicantIncome    0\n",
              "LoanAmount           0\n",
              "Loan_Amount_Term     0\n",
              "Credit_History       0\n",
              "Property_Area        0\n",
              "Loan_Status          0\n",
              "dtype: int64"
            ]
          },
          "metadata": {
            "tags": []
          },
          "execution_count": 160
        }
      ]
    },
    {
      "cell_type": "markdown",
      "metadata": {
        "id": "BH645X3KVwEd"
      },
      "source": [
        "# Correlation"
      ]
    },
    {
      "cell_type": "code",
      "metadata": {
        "colab": {
          "base_uri": "https://localhost:8080/",
          "height": 1000
        },
        "id": "UvIRxOxPOBSg",
        "outputId": "2fbe506d-13e4-4125-8b93-355095763739"
      },
      "source": [
        "# data.hist()\n",
        "\n",
        "fig = plt.figure(figsize = (15,20))\n",
        "ax = fig.gca()\n",
        "data_test_over.hist(ax = ax)"
      ],
      "execution_count": 133,
      "outputs": [
        {
          "output_type": "stream",
          "text": [
            "/usr/local/lib/python3.6/dist-packages/ipykernel_launcher.py:5: UserWarning: To output multiple subplots, the figure containing the passed axes is being cleared\n",
            "  \"\"\"\n"
          ],
          "name": "stderr"
        },
        {
          "output_type": "execute_result",
          "data": {
            "text/plain": [
              "array([[<matplotlib.axes._subplots.AxesSubplot object at 0x7fd058258860>,\n",
              "        <matplotlib.axes._subplots.AxesSubplot object at 0x7fd0581c46d8>,\n",
              "        <matplotlib.axes._subplots.AxesSubplot object at 0x7fd058175d30>],\n",
              "       [<matplotlib.axes._subplots.AxesSubplot object at 0x7fd0581333c8>,\n",
              "        <matplotlib.axes._subplots.AxesSubplot object at 0x7fd05815cfd0>,\n",
              "        <matplotlib.axes._subplots.AxesSubplot object at 0x7fd058116668>],\n",
              "       [<matplotlib.axes._subplots.AxesSubplot object at 0x7fd0580c6cc0>,\n",
              "        <matplotlib.axes._subplots.AxesSubplot object at 0x7fd058084320>,\n",
              "        <matplotlib.axes._subplots.AxesSubplot object at 0x7fd058084390>],\n",
              "       [<matplotlib.axes._subplots.AxesSubplot object at 0x7fd057fe6fd0>,\n",
              "        <matplotlib.axes._subplots.AxesSubplot object at 0x7fd057fa36a0>,\n",
              "        <matplotlib.axes._subplots.AxesSubplot object at 0x7fd057fd3cf8>]],\n",
              "      dtype=object)"
            ]
          },
          "metadata": {
            "tags": []
          },
          "execution_count": 133
        },
        {
          "output_type": "display_data",
          "data": {
            "image/png": "[encoded data removed]",
            "text/plain": [
              "<Figure size 1080x1440 with 12 Axes>"
            ]
          },
          "metadata": {
            "tags": []
          }
        }
      ]
    },
    {
      "cell_type": "code",
      "metadata": {
        "colab": {
          "base_uri": "https://localhost:8080/",
          "height": 369
        },
        "id": "53-RKek5OBSh",
        "outputId": "e7de0d06-7b6b-40c4-946d-57acfeaee223"
      },
      "source": [
        "sns.heatmap(data_test_over.corr());"
      ],
      "execution_count": 134,
      "outputs": [
        {
          "output_type": "display_data",
          "data": {
            "image/png": "[encoded data removed]",
            "text/plain": [
              "<Figure size 432x288 with 2 Axes>"
            ]
          },
          "metadata": {
            "tags": []
          }
        }
      ]
    },
    {
      "cell_type": "code",
      "metadata": {
        "colab": {
          "base_uri": "https://localhost:8080/",
          "height": 441
        },
        "id": "QM3PAGWXOBSn",
        "outputId": "fa0484b4-9aa9-46ff-c5f4-bd0e78f029f2"
      },
      "source": [
        "data_test_over.corr()"
      ],
      "execution_count": 135,
      "outputs": [
        {
          "output_type": "execute_result",
          "data": {
            "text/html": [
              "<div>\n",
              "<style scoped>\n",
              "    .dataframe tbody tr th:only-of-type {\n",
              "        vertical-align: middle;\n",
              "    }\n",
              "\n",
              "    .dataframe tbody tr th {\n",
              "        vertical-align: top;\n",
              "    }\n",
              "\n",
              "    .dataframe thead th {\n",
              "        text-align: right;\n",
              "    }\n",
              "</style>\n",
              "<table border=\"1\" class=\"dataframe\">\n",
              "  <thead>\n",
              "    <tr style=\"text-align: right;\">\n",
              "      <th></th>\n",
              "      <th>Gender</th>\n",
              "      <th>Married</th>\n",
              "      <th>Dependents</th>\n",
              "      <th>Education</th>\n",
              "      <th>Self_Employed</th>\n",
              "      <th>ApplicantIncome</th>\n",
              "      <th>CoapplicantIncome</th>\n",
              "      <th>LoanAmount</th>\n",
              "      <th>Loan_Amount_Term</th>\n",
              "      <th>Credit_History</th>\n",
              "      <th>Property_Area</th>\n",
              "      <th>Loan_Status</th>\n",
              "    </tr>\n",
              "  </thead>\n",
              "  <tbody>\n",
              "    <tr>\n",
              "      <th>Gender</th>\n",
              "      <td>1.000000</td>\n",
              "      <td>-0.348462</td>\n",
              "      <td>0.173440</td>\n",
              "      <td>-0.093270</td>\n",
              "      <td>0.003959</td>\n",
              "      <td>0.057111</td>\n",
              "      <td>0.153573</td>\n",
              "      <td>0.098421</td>\n",
              "      <td>-0.139278</td>\n",
              "      <td>0.078790</td>\n",
              "      <td>0.071017</td>\n",
              "      <td>0.033172</td>\n",
              "    </tr>\n",
              "    <tr>\n",
              "      <th>Married</th>\n",
              "      <td>-0.348462</td>\n",
              "      <td>1.000000</td>\n",
              "      <td>-0.337986</td>\n",
              "      <td>0.038155</td>\n",
              "      <td>-0.035109</td>\n",
              "      <td>-0.035969</td>\n",
              "      <td>-0.133996</td>\n",
              "      <td>-0.151534</td>\n",
              "      <td>0.103364</td>\n",
              "      <td>-0.032798</td>\n",
              "      <td>-0.034635</td>\n",
              "      <td>-0.084038</td>\n",
              "    </tr>\n",
              "    <tr>\n",
              "      <th>Dependents</th>\n",
              "      <td>0.173440</td>\n",
              "      <td>-0.337986</td>\n",
              "      <td>1.000000</td>\n",
              "      <td>-0.098483</td>\n",
              "      <td>0.062967</td>\n",
              "      <td>0.090534</td>\n",
              "      <td>0.005205</td>\n",
              "      <td>0.149921</td>\n",
              "      <td>-0.106987</td>\n",
              "      <td>0.024840</td>\n",
              "      <td>0.041145</td>\n",
              "      <td>-0.005885</td>\n",
              "    </tr>\n",
              "    <tr>\n",
              "      <th>Education</th>\n",
              "      <td>-0.093270</td>\n",
              "      <td>0.038155</td>\n",
              "      <td>-0.098483</td>\n",
              "      <td>1.000000</td>\n",
              "      <td>0.009057</td>\n",
              "      <td>0.157238</td>\n",
              "      <td>0.080675</td>\n",
              "      <td>0.160475</td>\n",
              "      <td>0.139792</td>\n",
              "      <td>0.099527</td>\n",
              "      <td>-0.038489</td>\n",
              "      <td>0.100310</td>\n",
              "    </tr>\n",
              "    <tr>\n",
              "      <th>Self_Employed</th>\n",
              "      <td>0.003959</td>\n",
              "      <td>-0.035109</td>\n",
              "      <td>0.062967</td>\n",
              "      <td>0.009057</td>\n",
              "      <td>1.000000</td>\n",
              "      <td>0.108684</td>\n",
              "      <td>0.101071</td>\n",
              "      <td>0.164370</td>\n",
              "      <td>-0.078752</td>\n",
              "      <td>-0.005806</td>\n",
              "      <td>0.016277</td>\n",
              "      <td>-0.036938</td>\n",
              "    </tr>\n",
              "    <tr>\n",
              "      <th>ApplicantIncome</th>\n",
              "      <td>0.057111</td>\n",
              "      <td>-0.035969</td>\n",
              "      <td>0.090534</td>\n",
              "      <td>0.157238</td>\n",
              "      <td>0.108684</td>\n",
              "      <td>1.000000</td>\n",
              "      <td>-0.112420</td>\n",
              "      <td>0.551855</td>\n",
              "      <td>-0.018971</td>\n",
              "      <td>0.021132</td>\n",
              "      <td>-0.042347</td>\n",
              "      <td>0.035235</td>\n",
              "    </tr>\n",
              "    <tr>\n",
              "      <th>CoapplicantIncome</th>\n",
              "      <td>0.153573</td>\n",
              "      <td>-0.133996</td>\n",
              "      <td>0.005205</td>\n",
              "      <td>0.080675</td>\n",
              "      <td>0.101071</td>\n",
              "      <td>-0.112420</td>\n",
              "      <td>1.000000</td>\n",
              "      <td>0.200734</td>\n",
              "      <td>-0.011398</td>\n",
              "      <td>0.013142</td>\n",
              "      <td>0.069408</td>\n",
              "      <td>-0.058707</td>\n",
              "    </tr>\n",
              "    <tr>\n",
              "      <th>LoanAmount</th>\n",
              "      <td>0.098421</td>\n",
              "      <td>-0.151534</td>\n",
              "      <td>0.149921</td>\n",
              "      <td>0.160475</td>\n",
              "      <td>0.164370</td>\n",
              "      <td>0.551855</td>\n",
              "      <td>0.200734</td>\n",
              "      <td>1.000000</td>\n",
              "      <td>0.070089</td>\n",
              "      <td>0.001506</td>\n",
              "      <td>-0.050391</td>\n",
              "      <td>-0.010339</td>\n",
              "    </tr>\n",
              "    <tr>\n",
              "      <th>Loan_Amount_Term</th>\n",
              "      <td>-0.139278</td>\n",
              "      <td>0.103364</td>\n",
              "      <td>-0.106987</td>\n",
              "      <td>0.139792</td>\n",
              "      <td>-0.078752</td>\n",
              "      <td>-0.018971</td>\n",
              "      <td>-0.011398</td>\n",
              "      <td>0.070089</td>\n",
              "      <td>1.000000</td>\n",
              "      <td>0.051384</td>\n",
              "      <td>-0.070506</td>\n",
              "      <td>0.034779</td>\n",
              "    </tr>\n",
              "    <tr>\n",
              "      <th>Credit_History</th>\n",
              "      <td>0.078790</td>\n",
              "      <td>-0.032798</td>\n",
              "      <td>0.024840</td>\n",
              "      <td>0.099527</td>\n",
              "      <td>-0.005806</td>\n",
              "      <td>0.021132</td>\n",
              "      <td>0.013142</td>\n",
              "      <td>0.001506</td>\n",
              "      <td>0.051384</td>\n",
              "      <td>1.000000</td>\n",
              "      <td>-0.087088</td>\n",
              "      <td>0.506891</td>\n",
              "    </tr>\n",
              "    <tr>\n",
              "      <th>Property_Area</th>\n",
              "      <td>0.071017</td>\n",
              "      <td>-0.034635</td>\n",
              "      <td>0.041145</td>\n",
              "      <td>-0.038489</td>\n",
              "      <td>0.016277</td>\n",
              "      <td>-0.042347</td>\n",
              "      <td>0.069408</td>\n",
              "      <td>-0.050391</td>\n",
              "      <td>-0.070506</td>\n",
              "      <td>-0.087088</td>\n",
              "      <td>1.000000</td>\n",
              "      <td>-0.142866</td>\n",
              "    </tr>\n",
              "    <tr>\n",
              "      <th>Loan_Status</th>\n",
              "      <td>0.033172</td>\n",
              "      <td>-0.084038</td>\n",
              "      <td>-0.005885</td>\n",
              "      <td>0.100310</td>\n",
              "      <td>-0.036938</td>\n",
              "      <td>0.035235</td>\n",
              "      <td>-0.058707</td>\n",
              "      <td>-0.010339</td>\n",
              "      <td>0.034779</td>\n",
              "      <td>0.506891</td>\n",
              "      <td>-0.142866</td>\n",
              "      <td>1.000000</td>\n",
              "    </tr>\n",
              "  </tbody>\n",
              "</table>\n",
              "</div>"
            ],
            "text/plain": [
              "                     Gender   Married  ...  Property_Area  Loan_Status\n",
              "Gender             1.000000 -0.348462  ...       0.071017     0.033172\n",
              "Married           -0.348462  1.000000  ...      -0.034635    -0.084038\n",
              "Dependents         0.173440 -0.337986  ...       0.041145    -0.005885\n",
              "Education         -0.093270  0.038155  ...      -0.038489     0.100310\n",
              "Self_Employed      0.003959 -0.035109  ...       0.016277    -0.036938\n",
              "ApplicantIncome    0.057111 -0.035969  ...      -0.042347     0.035235\n",
              "CoapplicantIncome  0.153573 -0.133996  ...       0.069408    -0.058707\n",
              "LoanAmount         0.098421 -0.151534  ...      -0.050391    -0.010339\n",
              "Loan_Amount_Term  -0.139278  0.103364  ...      -0.070506     0.034779\n",
              "Credit_History     0.078790 -0.032798  ...      -0.087088     0.506891\n",
              "Property_Area      0.071017 -0.034635  ...       1.000000    -0.142866\n",
              "Loan_Status        0.033172 -0.084038  ...      -0.142866     1.000000\n",
              "\n",
              "[12 rows x 12 columns]"
            ]
          },
          "metadata": {
            "tags": []
          },
          "execution_count": 135
        }
      ]
    },
    {
      "cell_type": "code",
      "metadata": {
        "id": "6yRtdAcdOBSp"
      },
      "source": [
        "data_test_over.drop(['Loan_ID','Dependents','Self_Employed'], axis=1, inplace=True)"
      ],
      "execution_count": 162,
      "outputs": []
    },
    {
      "cell_type": "code",
      "metadata": {
        "id": "mITSHYUtOBSp"
      },
      "source": [
        "data_test_over.to_csv('prediksi_data.csv', index=False)"
      ],
      "execution_count": 137,
      "outputs": []
    },
    {
      "cell_type": "code",
      "metadata": {
        "id": "Qgg6TvXsOBSs"
      },
      "source": [
        "x = data_test_over.drop([\"Loan_Status\"], axis = 1)\n",
        "y = data_test_over[\"Loan_Status\"]"
      ],
      "execution_count": 163,
      "outputs": []
    },
    {
      "cell_type": "markdown",
      "metadata": {
        "id": "Vz8wueDhOBSs"
      },
      "source": [
        "# Naive"
      ]
    },
    {
      "cell_type": "code",
      "metadata": {
        "id": "rT0QfDYJOBSt"
      },
      "source": [
        "from sklearn.model_selection import train_test_split\n",
        "x_train, x_test, y_train, y_test = train_test_split(x, y, test_size = 0.2, random_state = 101)"
      ],
      "execution_count": 164,
      "outputs": []
    },
    {
      "cell_type": "code",
      "metadata": {
        "id": "CrIKtp5IOBSt"
      },
      "source": [
        "from sklearn.naive_bayes import GaussianNB\n",
        "# Mengaktifkan/memanggil/membuat fungsi klasifikasi Naive Bayes\n",
        "modelnb = GaussianNB()\n",
        "# Memasukkan data training pada fungsi klasifikasi Naive Bayes\n",
        "nbtrain = modelnb.fit(x_train, y_train)"
      ],
      "execution_count": 165,
      "outputs": []
    },
    {
      "cell_type": "code",
      "metadata": {
        "colab": {
          "base_uri": "https://localhost:8080/"
        },
        "id": "XtS8nbdJOBSt",
        "outputId": "99b8c98f-a95a-402f-9f22-7a972bc6b452"
      },
      "source": [
        "y_pred = nbtrain.predict(x_test)\n",
        "y_pred"
      ],
      "execution_count": 166,
      "outputs": [
        {
          "output_type": "execute_result",
          "data": {
            "text/plain": [
              "array([0, 1, 0, 1, 1, 0, 1, 1, 1, 0, 1, 0, 1, 1, 1, 1, 1, 0, 1, 1, 0, 0,\n",
              "       1, 1, 0, 0, 1, 1, 1, 1, 1, 1, 1, 1, 1, 1, 1, 0, 1, 1, 1, 1, 1, 1,\n",
              "       1, 1, 1, 1, 1, 1, 0, 1, 1, 1, 0, 0, 0, 1, 0, 0, 0, 1, 1, 1, 1, 0,\n",
              "       1, 1, 1, 1, 0, 0, 0, 0, 1, 1, 1, 1, 1, 0, 1, 1, 1, 1, 1, 1, 1, 0,\n",
              "       1, 1, 1, 0, 1, 1, 0, 1, 0, 0, 1, 1, 0, 1, 0, 0, 1, 0, 1, 1, 0, 0,\n",
              "       1, 1, 1, 0, 1, 0, 1, 1, 1, 0, 1, 1, 1, 0, 0, 1, 1, 0, 0, 1, 1, 1,\n",
              "       1, 0, 0, 1, 1, 1, 1, 0, 0, 0, 0, 0, 0, 1, 1, 1, 1, 1, 1, 1, 1, 1,\n",
              "       1, 1, 1, 1, 0, 1, 0, 0, 1, 0, 0, 1, 0, 1, 1])"
            ]
          },
          "metadata": {
            "tags": []
          },
          "execution_count": 166
        }
      ]
    },
    {
      "cell_type": "code",
      "metadata": {
        "colab": {
          "base_uri": "https://localhost:8080/"
        },
        "id": "lb4CllBrOBSu",
        "outputId": "c4073ae7-3077-496c-9fa9-42a72bd95114"
      },
      "source": [
        "from sklearn.metrics import confusion_matrix\n",
        "confusion_matrix(y_test, y_pred)"
      ],
      "execution_count": 167,
      "outputs": [
        {
          "output_type": "execute_result",
          "data": {
            "text/plain": [
              "array([[49, 31],\n",
              "       [ 7, 82]])"
            ]
          },
          "metadata": {
            "tags": []
          },
          "execution_count": 167
        }
      ]
    },
    {
      "cell_type": "code",
      "metadata": {
        "colab": {
          "base_uri": "https://localhost:8080/"
        },
        "id": "9_mJOJu0OBSu",
        "outputId": "14380f0b-df24-42c4-b27d-77d65280747d"
      },
      "source": [
        "from sklearn.metrics import classification_report\n",
        "print(classification_report(y_test, y_pred))"
      ],
      "execution_count": 168,
      "outputs": [
        {
          "output_type": "stream",
          "text": [
            "              precision    recall  f1-score   support\n",
            "\n",
            "           0       0.88      0.61      0.72        80\n",
            "           1       0.73      0.92      0.81        89\n",
            "\n",
            "    accuracy                           0.78       169\n",
            "   macro avg       0.80      0.77      0.77       169\n",
            "weighted avg       0.80      0.78      0.77       169\n",
            "\n"
          ],
          "name": "stdout"
        }
      ]
    }
  ]
}